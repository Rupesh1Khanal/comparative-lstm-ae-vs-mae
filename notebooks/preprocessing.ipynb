{
 "cells": [
  {
   "cell_type": "markdown",
   "id": "1828ffff",
   "metadata": {},
   "source": [
    "# Preprocessing — C-MAPSS FD001\n",
    "\n",
    "This notebook prepares the FD001 subset:\n",
    "- loads raw text files,\n",
    "- selects sensors (`s01,s05,s10,s16,s18,s19` dropped),\n",
    "- standardizes features (fit on **training normals only**),\n",
    "- creates sliding windows (seq_len=80, stride=1, anomaly_horizon=30),\n",
    "- writes deterministic splits and metadata into `artifacts/`.\n",
    "\n",
    "All parameters come from `config.yaml`.\n"
   ]
  },
  {
   "cell_type": "markdown",
   "id": "d3d38d6f",
   "metadata": {},
   "source": [
    "## Importing required Libraries"
   ]
  },
  {
   "cell_type": "code",
   "execution_count": 1,
   "id": "4a61f899",
   "metadata": {},
   "outputs": [],
   "source": [
    "import os, random\n",
    "os.environ.setdefault(\"PYTHONHASHSEED\", \"42\")\n",
    "os.environ.setdefault(\"TF_DETERMINISTIC_OPS\", \"1\")\n",
    "os.environ.setdefault(\"TF_CUDNN_DETERMINISTIC\", \"1\")\n",
    "\n",
    "import yaml, json, pickle, hashlib\n",
    "from pathlib import Path\n",
    "\n",
    "import numpy as np\n",
    "import pandas as pd\n",
    "from sklearn.preprocessing import StandardScaler, MinMaxScaler\n",
    "\n",
    "import matplotlib\n",
    "matplotlib.use(\"Agg\")\n",
    "import matplotlib.pyplot as plt\n",
    "plt.rcParams['figure.figsize'] = (6,4)\n",
    "\n",
    "import tensorflow as tf\n"
   ]
  },
  {
   "cell_type": "markdown",
   "id": "e901edee",
   "metadata": {},
   "source": [
    "## Setup & Config\n",
    "- Read `config.yaml`\n",
    "- Set seeds for reproducibility\n",
    "- Sanity-check config vs metadata (if re-running)\n"
   ]
  },
  {
   "cell_type": "code",
   "execution_count": 2,
   "id": "4437f169",
   "metadata": {},
   "outputs": [
    {
     "name": "stdout",
     "output_type": "stream",
     "text": [
      "Config loaded. Key settings:\n",
      "  data path:            data\n",
      "  seq_len/stride:       80/1\n",
      "  horizon/dilation:     30/3  | label_mode: any\n",
      "  scale:                standard (fit_on=train_normals_only)\n",
      "  drop_low_var_thresh:  1e-06\n",
      "  drop_sensors:         ['s01', 's05', 's10', 's16', 's18', 's19']\n",
      "  unitwise:             True\n",
      "  splits:               train_frac=0.8, seed=42\n",
      "  repro:                seed=42, tf_deterministic=True\n",
      "  yaml_hash:            2cff7a8dedc0d73ce80e4174ffe62008\n"
     ]
    },
    {
     "data": {
      "text/plain": [
       "33"
      ]
     },
     "execution_count": 2,
     "metadata": {},
     "output_type": "execute_result"
    }
   ],
   "source": [
    "with open(\"config.yaml\", \"r\", encoding=\"utf-8\") as f:\n",
    "    CFG = yaml.safe_load(f)\n",
    "\n",
    "def yaml_md5(path=\"config.yaml\"):\n",
    "    with open(path, \"rb\") as f:\n",
    "        return hashlib.md5(f.read()).hexdigest()\n",
    "\n",
    "CFG_HASH = yaml_md5(\"config.yaml\")\n",
    "\n",
    "def require(path):\n",
    "    cur = CFG\n",
    "    for k in path.split(\".\"):\n",
    "        if not isinstance(cur, dict) or k not in cur:\n",
    "            raise KeyError(f\"Missing '{path}' in config.yaml\")\n",
    "        cur = cur[k]\n",
    "    return cur\n",
    "\n",
    "DATA_DIR   = Path(require(\"data.path\"))\n",
    "FEATURES   = require(\"data.features\")     \n",
    "SEQ_LEN    = int(require(\"data.seq_len\"))\n",
    "STRIDE     = int(require(\"data.stride\"))\n",
    "LABEL_MODE = str(require(\"data.label_mode\"))\n",
    "DILATION   = int(require(\"data.label_dilation\"))\n",
    "HORIZON    = int(require(\"data.anomaly_horizon\"))\n",
    "SCALE      = str(require(\"data.scale\")).lower() \n",
    "SCALE_FIT  = str(require(\"data.scale_fit_on\"))\n",
    "LV_THRESH  = float(require(\"data.drop_low_variance_threshold\"))\n",
    "DROP_SENS  = [str(s) for s in CFG[\"data\"].get(\"drop_sensors\", [])]\n",
    "UNITWISE   = bool(CFG[\"data\"].get(\"unitwise\", True))\n",
    "\n",
    "TRAIN_FRAC = float(require(\"splits.train_frac\"))\n",
    "SPLIT_SEED = int(require(\"splits.seed\"))\n",
    "\n",
    "SEED       = int(require(\"repro.seed\"))\n",
    "TF_DET     = bool(CFG[\"repro\"].get(\"tf_deterministic\", True))\n",
    "\n",
    "\n",
    "ARTIFACTS_DIR = Path(\"artifacts\"); ARTIFACTS_DIR.mkdir(parents=True, exist_ok=True)\n",
    "CMAPSS_COLS = [\"unit\",\"cycle\",\"os1\",\"os2\",\"os3\"] + [f\"s{i:02d}\" for i in range(1,22)]\n",
    "\n",
    "print(\"Config loaded. Key settings:\")\n",
    "print(f\"  data path:            {DATA_DIR}\")\n",
    "print(f\"  seq_len/stride:       {SEQ_LEN}/{STRIDE}\")\n",
    "print(f\"  horizon/dilation:     {HORIZON}/{DILATION}  | label_mode: {LABEL_MODE}\")\n",
    "print(f\"  scale:                {SCALE} (fit_on={SCALE_FIT})\")\n",
    "print(f\"  drop_low_var_thresh:  {LV_THRESH}\")\n",
    "print(f\"  drop_sensors:         {DROP_SENS}\")\n",
    "print(f\"  unitwise:             {UNITWISE}\")\n",
    "print(f\"  splits:               train_frac={TRAIN_FRAC}, seed={SPLIT_SEED}\")\n",
    "print(f\"  repro:                seed={SEED}, tf_deterministic={TF_DET}\")\n",
    "print(f\"  yaml_hash:            {CFG_HASH}\")\n",
    "\n",
    "\n",
    "(ARTIFACTS_DIR / \"config_snapshot.yaml\").write_text(yaml.dump(CFG, sort_keys=False))\n",
    "(ARTIFACTS_DIR / \"yaml_hash.txt\").write_text(CFG_HASH + \"\\n\")\n"
   ]
  },
  {
   "cell_type": "code",
   "execution_count": 3,
   "id": "1fd41bc5",
   "metadata": {},
   "outputs": [
    {
     "name": "stdout",
     "output_type": "stream",
     "text": [
      "Seeds set: 42 | TF deterministic: True\n"
     ]
    }
   ],
   "source": [
    "\n",
    "random.seed(SEED); np.random.seed(SEED); tf.random.set_seed(SEED)\n",
    "os.environ[\"PYTHONHASHSEED\"] = str(SEED)\n",
    "if TF_DET:\n",
    "    os.environ[\"TF_DETERMINISTIC_OPS\"] = \"1\"\n",
    "    os.environ[\"TF_CUDNN_DETERMINISTIC\"] = \"1\"\n",
    "print(f\"Seeds set: {SEED} | TF deterministic: {TF_DET}\")\n"
   ]
  },
  {
   "cell_type": "markdown",
   "id": "5cb6438d",
   "metadata": {},
   "source": [
    "##  Load Raw Data (FD001)\n",
    "- Parse NASA files into a DataFrame\n",
    "- Assign column names per spec\n",
    "- Basic sanity checks (rows, engines, sensors)\n"
   ]
  },
  {
   "cell_type": "code",
   "execution_count": 4,
   "id": "1c748795",
   "metadata": {},
   "outputs": [],
   "source": [
    "def load_fd001(data_path: Path):\n",
    "    tr = pd.read_csv(data_path / \"train_FD001.txt\", sep=r\"\\s+\", header=None, engine=\"python\")\n",
    "    te = pd.read_csv(data_path / \"test_FD001.txt\",  sep=r\"\\s+\", header=None, engine=\"python\")\n",
    "    tr.columns = CMAPSS_COLS; te.columns = CMAPSS_COLS\n",
    "\n",
    "    for c in [\"unit\",\"cycle\"]:\n",
    "        tr[c] = tr[c].astype(np.int32, copy=False)\n",
    "        te[c] = te[c].astype(np.int32, copy=False)\n",
    "    for c in [x for x in tr.columns if x not in [\"unit\",\"cycle\"]]:\n",
    "        tr[c] = tr[c].astype(np.float32, copy=False)\n",
    "        te[c] = te[c].astype(np.float32, copy=False)\n",
    "    return tr, te\n",
    "\n",
    "def dilate_binary_labels(labels: np.ndarray, dilation: int) -> np.ndarray:\n",
    "    if dilation <= 0: return labels.astype(np.int8, copy=False)\n",
    "    out = labels.astype(np.int8, copy=True)\n",
    "    ones = np.flatnonzero(out == 1)\n",
    "    for i in ones:\n",
    "        s = max(0, i - dilation); e = min(len(out), i + dilation + 1)\n",
    "        out[s:e] = 1\n",
    "    return out\n",
    "\n",
    "def add_rul_and_label_train(df: pd.DataFrame, tau: int, dilation: int) -> pd.DataFrame:\n",
    "    out = []\n",
    "    for _, g in df.groupby(\"unit\", sort=False):\n",
    "        g = g.sort_values(\"cycle\").copy()\n",
    "        max_c = int(g[\"cycle\"].max())\n",
    "        g[\"RUL\"] = (max_c - g[\"cycle\"]).astype(np.int32)\n",
    "        y = (g[\"RUL\"] <= tau).astype(np.int8).to_numpy()\n",
    "        g[\"anomaly\"] = dilate_binary_labels(y, dilation)\n",
    "        out.append(g)\n",
    "    return pd.concat(out, axis=0)\n"
   ]
  },
  {
   "cell_type": "code",
   "execution_count": 5,
   "id": "9be83a02",
   "metadata": {},
   "outputs": [
    {
     "name": "stdout",
     "output_type": "stream",
     "text": [
      "[TRAIN] Labeled with horizon=30, dilation=3 | rows=20631\n",
      " unit  cycle     os1     os2   os3        s01        s02         s03         s04   s05       s06        s07         s08         s09  s10       s11        s12         s13         s14    s15  s16   s17    s18   s19       s20       s21  RUL  anomaly\n",
      "    1      1 -0.0007 -0.0004 100.0 518.669983 641.820007 1589.699951 1400.599976 14.62 21.610001 554.359985 2388.060059 9046.190430  1.3 47.470001 521.659973 2388.020020 8138.620117 8.4195 0.03 392.0 2388.0 100.0 39.060001 23.419001  191        0\n",
      "    1      2  0.0019 -0.0003 100.0 518.669983 642.150024 1591.819946 1403.140015 14.62 21.610001 553.750000 2388.040039 9044.070312  1.3 47.490002 522.280029 2388.070068 8131.490234 8.4318 0.03 392.0 2388.0 100.0 39.000000 23.423599  190        0\n",
      "    1      3 -0.0043  0.0003 100.0 518.669983 642.349976 1587.989990 1404.199951 14.62 21.610001 554.260010 2388.080078 9052.940430  1.3 47.270000 522.419983 2388.030029 8133.229980 8.4178 0.03 390.0 2388.0 100.0 38.950001 23.344200  189        0\n",
      "[TEST] shape=(13096, 28) | units=100 | anomaly points=407 (3.11%)\n"
     ]
    }
   ],
   "source": [
    "train_raw, test_raw = load_fd001(DATA_DIR)\n",
    "\n",
    "assert LABEL_MODE == \"any\", \"This preprocessing expects label_mode=any.\"\n",
    "\n",
    "train_df_all = add_rul_and_label_train(train_raw, tau=HORIZON, dilation=DILATION)\n",
    "print(f\"[TRAIN] Labeled with horizon={HORIZON}, dilation={DILATION} | rows={len(train_df_all)}\")\n",
    "print(train_df_all.head(3).to_string(index=False))\n",
    "\n",
    "rul_path = DATA_DIR / \"RUL_FD001.txt\"\n",
    "rul_end = pd.read_csv(rul_path, sep=r\"\\s+\", header=None, names=[\"RUL_end\"], engine=\"python\")\n",
    "rul_end[\"unit\"] = np.arange(1, len(rul_end) + 1, dtype=np.int32)\n",
    "\n",
    "def add_rul_and_label_test(test_df: pd.DataFrame, rul_end_df: pd.DataFrame, tau: int, dilation: int) -> pd.DataFrame:\n",
    "    out = []\n",
    "    for uid, g in test_df.groupby(\"unit\", sort=False):\n",
    "        g = g.sort_values(\"cycle\").copy()\n",
    "        max_c = int(g[\"cycle\"].max())\n",
    "        row = rul_end_df.loc[rul_end_df[\"unit\"] == uid, \"RUL_end\"]\n",
    "        if row.empty:\n",
    "            raise ValueError(f\"No RUL entry for test unit {uid} in {rul_path.name}\")\n",
    "        re = int(row.iloc[0])\n",
    "        g[\"RUL\"] = (re + (max_c - g[\"cycle\"])).astype(np.int32)\n",
    "        y = (g[\"RUL\"] <= tau).astype(np.int8).to_numpy()\n",
    "        g[\"anomaly\"] = dilate_binary_labels(y, dilation)\n",
    "        out.append(g)\n",
    "    return pd.concat(out, axis=0)\n",
    "\n",
    "test_df_all = add_rul_and_label_test(test_raw, rul_end, tau=HORIZON, dilation=DILATION)\n",
    "\n",
    "print(f\"[TEST] shape={test_df_all.shape} | units={test_df_all['unit'].nunique()} | \"\n",
    "      f\"anomaly points={int(test_df_all['anomaly'].sum())} ({test_df_all['anomaly'].mean():.2%})\")\n"
   ]
  },
  {
   "cell_type": "markdown",
   "id": "40f89699",
   "metadata": {},
   "source": [
    "##  Sensor Selection & Scaling\n",
    "- Drop low-variance and listed sensors\n",
    "- Standardize with Z-score using **training normals**\n",
    "- Persist scaler and selection info to metadata\n"
   ]
  },
  {
   "cell_type": "code",
   "execution_count": 6,
   "id": "e896dfa1",
   "metadata": {},
   "outputs": [
    {
     "name": "stdout",
     "output_type": "stream",
     "text": [
      "Dropped by variance: ['os2', 'os3', 's01', 's05', 's10', 's16', 's18', 's19']\n",
      "Dropped fixed (config): ['s01', 's05', 's10', 's16', 's18', 's19']\n",
      "Using 15 features; first 10: ['s02', 's03', 's04', 's06', 's07', 's08', 's09', 's11', 's12', 's13']\n"
     ]
    }
   ],
   "source": [
    "def engine_split(df: pd.DataFrame, frac: float, seed: int):\n",
    "    rng = np.random.default_rng(seed)\n",
    "    engines = df[\"unit\"].unique()\n",
    "    rng.shuffle(engines)\n",
    "    n_train = max(1, int(len(engines) * frac))\n",
    "    return engines[:n_train].tolist(), engines[n_train:].tolist()\n",
    "\n",
    "def drop_low_variance(df: pd.DataFrame, threshold: float, protect=(\"unit\",\"cycle\",\"RUL\",\"anomaly\")):\n",
    "    numeric = df.select_dtypes(include=[np.number]).copy()\n",
    "    numeric.drop(columns=[c for c in protect if c in numeric.columns], inplace=True, errors=\"ignore\")\n",
    "    var = numeric.var().fillna(0.0)\n",
    "    to_drop = var[var <= threshold].index.tolist()\n",
    "    return df.drop(columns=to_drop, errors=\"ignore\"), to_drop\n",
    "\n",
    "def zero_pad_sensor(name: str):\n",
    "    if isinstance(name, str) and name.startswith(\"s\") and name[1:].isdigit():\n",
    "        return f\"s{int(name[1:]):02d}\"\n",
    "    return name\n",
    "\n",
    "train_ids, val_ids = engine_split(train_df_all, TRAIN_FRAC, SPLIT_SEED)\n",
    "assert len(train_ids) and len(val_ids), \"Split resulted in empty train/val; adjust splits.train_frac/seed.\"\n",
    "\n",
    "train_df = train_df_all[train_df_all[\"unit\"].isin(train_ids)].copy()\n",
    "val_df   = train_df_all[train_df_all[\"unit\"].isin(val_ids)].copy()\n",
    "\n",
    "\n",
    "train_df, dropped_by_var = drop_low_variance(train_df, LV_THRESH)\n",
    "\n",
    "\n",
    "if isinstance(FEATURES, list):\n",
    "    feature_cols = [zero_pad_sensor(c) for c in FEATURES]\n",
    "else:\n",
    "    mode = str(FEATURES).lower()\n",
    "    if mode == \"sensors_only\":\n",
    "        feature_cols = [c for c in train_df.columns if c.startswith(\"s\")]\n",
    "    elif mode == \"sensors_plus_os\":\n",
    "        feature_cols = [c for c in train_df.columns if c.startswith(\"s\") or c.startswith(\"os\")]\n",
    "    else:\n",
    "        raise ValueError(\"data.features must be 'sensors_only', 'sensors_plus_os', or a list of column names.\")\n",
    "\n",
    "\n",
    "cfg_drop = [zero_pad_sensor(s) for s in DROP_SENS]\n",
    "feature_cols = [c for c in feature_cols if c not in cfg_drop]\n",
    "\n",
    "\n",
    "val_df  = val_df.drop(columns=dropped_by_var + cfg_drop, errors=\"ignore\")\n",
    "\n",
    "print(\"Dropped by variance:\", dropped_by_var)\n",
    "print(\"Dropped fixed (config):\", cfg_drop)\n",
    "print(f\"Using {len(feature_cols)} features; first 10:\", feature_cols[:10])\n",
    "assert feature_cols, \"No features left after drops; check config.\"\n"
   ]
  },
  {
   "cell_type": "code",
   "execution_count": 7,
   "id": "cab86289",
   "metadata": {},
   "outputs": [
    {
     "name": "stdout",
     "output_type": "stream",
     "text": [
      "[TEST] After alignment: (13096, 19)\n",
      "Scaling: standard | fit rows (normal train): 13807\n"
     ]
    }
   ],
   "source": [
    "test_df = test_df_all.drop(columns=dropped_by_var + cfg_drop, errors=\"ignore\")\n",
    "keep_test = [c for c in (feature_cols + [\"unit\",\"cycle\",\"anomaly\",\"RUL\"]) if c in test_df.columns]\n",
    "test_df = test_df[keep_test].copy()\n",
    "\n",
    "missing_feats = [c for c in feature_cols if c not in test_df.columns]\n",
    "if missing_feats:\n",
    "    raise ValueError(f\"[TEST] Missing features after alignment: {missing_feats}\")\n",
    "print(\"[TEST] After alignment:\", test_df.shape)\n",
    "\n",
    "\n",
    "assert SCALE_FIT == \"train_normals_only\", \"config expects scale_fit_on=train_normals_only\"\n",
    "normal_train = train_df[train_df[\"anomaly\"] == 0]\n",
    "\n",
    "if SCALE == \"standard\":\n",
    "    scaler = StandardScaler()\n",
    "elif SCALE == \"minmax\":\n",
    "    scaler = MinMaxScaler()\n",
    "else:\n",
    "    raise ValueError(\"data.scale must be 'standard' or 'minmax'.\")\n",
    "\n",
    "scaler.fit(normal_train[feature_cols].values)\n",
    "\n",
    "for df_ in (train_df, val_df, test_df):\n",
    "    df_.loc[:, feature_cols] = scaler.transform(df_[feature_cols].values)\n",
    "\n",
    "\n",
    "for nm, df_ in [(\"train\", train_df), (\"val\", val_df), (\"test\", test_df)]:\n",
    "    x = df_[feature_cols].values\n",
    "    assert np.isfinite(x).all(), f\"{nm}: found NaN/Inf after scaling.\"\n",
    "\n",
    "print(f\"Scaling: {SCALE} | fit rows (normal train): {len(normal_train)}\")\n"
   ]
  },
  {
   "cell_type": "markdown",
   "id": "a644651b",
   "metadata": {},
   "source": [
    "##  Sliding Windows & Labels\n",
    "- seq_len=80, stride=1\n",
    "- label_mode=`any` with dilation=3, horizon=30\n",
    "- Save arrays: `X_train_normal.npy`, `X_val.npy`, `y_val.npy`, `X_test.npy`, `y_test.npy`\n"
   ]
  },
  {
   "cell_type": "code",
   "execution_count": null,
   "id": "3f25c297",
   "metadata": {},
   "outputs": [
    {
     "name": "stdout",
     "output_type": "stream",
     "text": [
      "Train windows : (10207, 80, 15) → normal only: (7487, 80, 15)\n",
      "Val windows   : (2524, 80, 15) | anomaly rate: 0.2694136291600634\n",
      "Test windows  : (5660, 80, 15) | anomaly rate: 0.07190812720848057\n"
     ]
    }
   ],
   "source": [
    "def make_windows(df: pd.DataFrame, feature_cols, seq_len: int, stride: int, label_mode=\"any\"):\n",
    "    Xs, ys = [], []\n",
    "    for _, g in df.groupby(\"unit\", sort=False):\n",
    "        g = g.sort_values(\"cycle\")\n",
    "        X = g[feature_cols].values\n",
    "        y = g[\"anomaly\"].values.astype(np.int8)\n",
    "        for s in range(0, len(g) - seq_len + 1, stride):\n",
    "            e = s + seq_len\n",
    "            if label_mode == \"any\":\n",
    "                lw = int(y[s:e].max())\n",
    "            elif label_mode == \"center\":\n",
    "                lw = int(y[s:e][len(y[s:e])//2])\n",
    "            else:\n",
    "                raise ValueError(\"label_mode must be 'any' or 'center'\")\n",
    "            Xs.append(X[s:e]); ys.append(lw)\n",
    "    return np.stack(Xs).astype(np.float32), np.array(ys, dtype=np.int8)\n",
    "\n",
    "def make_windows_with_ids(df: pd.DataFrame, feature_cols, seq_len: int, stride: int, label_mode=\"any\"):\n",
    "    Xs, ys, ids = [], [], []\n",
    "    for uid, g in df.groupby(\"unit\", sort=False):\n",
    "        g = g.sort_values(\"cycle\")\n",
    "        X = g[feature_cols].values\n",
    "        y = g[\"anomaly\"].values.astype(np.int8)\n",
    "        for s in range(0, len(g) - seq_len + 1, stride):\n",
    "            e = s + seq_len\n",
    "            if label_mode == \"any\":\n",
    "                lw = int(y[s:e].max())\n",
    "            elif label_mode == \"center\":\n",
    "                lw = int(y[s:e][len(y[s:e])//2])\n",
    "            else:\n",
    "                raise ValueError(\"label_mode must be 'any' or 'center'\")\n",
    "            Xs.append(X[s:e]); ys.append(lw); ids.append(int(uid))\n",
    "    return (\n",
    "        np.stack(Xs).astype(np.float32),\n",
    "        np.array(ys, dtype=np.int8),\n",
    "        np.array(ids, dtype=np.int32),\n",
    "    )\n",
    "\n",
    "X_train, y_train = make_windows(train_df, feature_cols, SEQ_LEN, STRIDE, LABEL_MODE)\n",
    "X_train_normal = X_train[y_train == 0]\n",
    "\n",
    "\n",
    "X_val,  y_val,  ids_val  = make_windows_with_ids(val_df,  feature_cols, SEQ_LEN, STRIDE, LABEL_MODE)\n",
    "X_test, y_test, ids_test = make_windows_with_ids(test_df, feature_cols, SEQ_LEN, STRIDE, LABEL_MODE)\n",
    "\n",
    "print(\"Train windows :\", X_train.shape, \"→ normal only:\", X_train_normal.shape)\n",
    "print(\"Val windows   :\", X_val.shape,   \"| anomaly rate:\", float(y_val.mean()))\n",
    "print(\"Test windows  :\", X_test.shape,  \"| anomaly rate:\", float(y_test.mean()))\n",
    "\n",
    "\n",
    "np.save(ARTIFACTS_DIR / \"X_train_normal.npy\", X_train_normal)\n",
    "np.save(ARTIFACTS_DIR / \"X_val.npy\",           X_val)\n",
    "np.save(ARTIFACTS_DIR / \"y_val.npy\",           y_val.astype(np.int32))\n",
    "np.save(ARTIFACTS_DIR / \"X_test.npy\",          X_test)\n",
    "np.save(ARTIFACTS_DIR / \"y_test.npy\",          y_test.astype(np.int32))\n",
    "\n",
    "\n",
    "np.save(ARTIFACTS_DIR / \"unit_ids_val.npy\",    ids_val)\n",
    "np.save(ARTIFACTS_DIR / \"unit_ids_test.npy\",   ids_test)"
   ]
  },
  {
   "cell_type": "markdown",
   "id": "214e4ac6",
   "metadata": {},
   "source": [
    "##  Deterministic Splits & Metadata\n",
    "- Write `splits.json` (indices)\n",
    "- Write `preprocessing_meta.json` (sensors, seq_len, stride, scale, dropped sensors, yaml hash)\n"
   ]
  },
  {
   "cell_type": "code",
   "execution_count": null,
   "id": "c0b0fb04",
   "metadata": {},
   "outputs": [
    {
     "name": "stdout",
     "output_type": "stream",
     "text": [
      "Feature order hash: 2f790daa\n",
      "Split hash: be148b03\n"
     ]
    },
    {
     "data": {
      "image/png": "[encoded data removed]",
      "text/plain": [
       "<Figure size 600x400 with 1 Axes>"
      ]
     },
     "metadata": {},
     "output_type": "display_data"
    },
    {
     "name": "stdout",
     "output_type": "stream",
     "text": [
      "Saved plot: artifacts\\val_label_hist.png\n",
      "{\n",
      "  \"train_windows_total\": 10207,\n",
      "  \"train_windows_normal\": 7487,\n",
      "  \"val_windows_total\": 2524,\n",
      "  \"val_anomaly_rate\": 0.2694136291600634,\n",
      "  \"test_windows_total\": 5660,\n",
      "  \"test_anomaly_rate\": 0.07190812720848057,\n",
      "  \"val_unit_ids_saved\": 2524,\n",
      "  \"test_unit_ids_saved\": 5660\n",
      "}\n",
      "Artifacts saved: ['README.txt', 'X_test.npy', 'X_train_normal.npy', 'X_val.npy', 'config_snapshot.yaml', 'data_report.json', 'feat_mad_abs.npy', 'feat_med_abs.npy', 'feat_var_lstm.npy', 'lstm_ae_best.weights.h5', 'lstm_ae_final.weights.h5', 'manifest.json', 'metrics_lstm_mad_warmup.json', 'metrics_lstm_test.json', 'metrics_lstm_val.json', 'metrics_lstm_varnorm_calibrated.json', 'pr_lstm_test.npy', 'pr_lstm_val.npy', 'preprocessing_meta.json', 'scaler.pkl', 'scores_lstm_test.npy', 'scores_lstm_test_mad.npy', 'scores_lstm_test_mad_warmup.npy', 'scores_lstm_test_varnorm_warmup.npy', 'scores_lstm_test_varnorm_warmup_ema.npy', 'scores_lstm_val.npy', 'scores_lstm_val_mad.npy', 'scores_lstm_val_mad_warmup.npy', 'scores_lstm_val_varnorm_warmup.npy', 'scores_lstm_val_varnorm_warmup_ema.npy', 'splits.json', 'sweep_lstm_val.npy', 'unit_ids_test.npy', 'unit_ids_val.npy', 'val_label_hist.png', 'y_test.npy', 'y_val.npy', 'yaml_hash.txt']\n"
     ]
    }
   ],
   "source": [
    "feature_order_hash = hashlib.md5(\",\".join(feature_cols).encode()).hexdigest()[:8]\n",
    "\n",
    "split_hash = hashlib.md5((\n",
    "    \",\".join(map(str, map(int, train_ids))) + \"|\" +\n",
    "    \",\".join(map(str, map(int, val_ids)))\n",
    ").encode()).hexdigest()[:8]\n",
    "\n",
    "print(\"Feature order hash:\", feature_order_hash)\n",
    "print(\"Split hash:\", split_hash)\n",
    "\n",
    "preprocessing_meta = {\n",
    "    \"yaml_hash\": CFG_HASH,\n",
    "    \"seed\": SEED,\n",
    "    \"seq_len\": SEQ_LEN, \"stride\": STRIDE,\n",
    "    \"label_mode\": LABEL_MODE,\n",
    "    \"label_dilation\": DILATION,\n",
    "    \"anomaly_horizon\": HORIZON,\n",
    "    \"scale\": {\"type\": SCALE},\n",
    "    \"scale_fit_on\": SCALE_FIT,\n",
    "    \"drop_low_variance_threshold\": LV_THRESH,\n",
    "    \"features_used\": feature_cols,\n",
    "    \"features_hash\": feature_order_hash,\n",
    "    \"dropped_by_var\": dropped_by_var,\n",
    "    \"dropped_fixed\": cfg_drop,\n",
    "    \"n_features\": int(len(feature_cols)),\n",
    "    \"split_hash\": split_hash,\n",
    "    \"has_unit_ids\": True,\n",
    "}\n",
    "(ARTIFACTS_DIR / \"preprocessing_meta.json\").write_text(json.dumps(preprocessing_meta, indent=2))\n",
    "\n",
    "report = {\n",
    "    \"train_windows_total\": int(len(X_train)),\n",
    "    \"train_windows_normal\": int(len(X_train_normal)),\n",
    "    \"val_windows_total\": int(len(X_val)),\n",
    "    \"val_anomaly_rate\": float(y_val.mean()),\n",
    "    \"test_windows_total\": int(len(X_test)),\n",
    "    \"test_anomaly_rate\": float(y_test.mean()),\n",
    "    \"val_unit_ids_saved\": int(len(ids_val)),\n",
    "    \"test_unit_ids_saved\": int(len(ids_test)),\n",
    "}\n",
    "(ARTIFACTS_DIR / \"data_report.json\").write_text(json.dumps(report, indent=2))\n",
    "\n",
    "manifest = {\n",
    "    \"yaml_hash\": CFG_HASH,\n",
    "    \"arrays\": {\n",
    "        \"X_train_normal\": list(X_train_normal.shape),\n",
    "        \"X_val\":          list(X_val.shape),\n",
    "        \"X_test\":         list(X_test.shape),\n",
    "    },\n",
    "    \"labels\": {\n",
    "        \"y_val_total\": int(len(y_val)), \"y_val_pos\": int(y_val.sum()),\n",
    "        \"y_test_total\": int(len(y_test)), \"y_test_pos\": int(y_test.sum()),\n",
    "    },\n",
    "    \"meta\": {\n",
    "        \"seq_len\": SEQ_LEN, \"stride\": STRIDE,\n",
    "        \"n_features\": int(len(feature_cols)),\n",
    "        \"scale\": SCALE,\n",
    "        \"label_dilation\": DILATION,\n",
    "        \"anomaly_horizon\": HORIZON,\n",
    "        \"dropped_fixed\": cfg_drop,\n",
    "        \"unit_ids_files\": [\"unit_ids_val.npy\", \"unit_ids_test.npy\"],\n",
    "    },\n",
    "}\n",
    "(ARTIFACTS_DIR / \"manifest.json\").write_text(json.dumps(manifest, indent=2))\n",
    "\n",
    "\n",
    "try:\n",
    "    from IPython import get_ipython\n",
    "    ip = get_ipython()\n",
    "    if ip is not None:\n",
    "        ip.run_line_magic(\"matplotlib\", \"inline\")\n",
    "except Exception:\n",
    "    pass\n",
    "\n",
    "import matplotlib.pyplot as plt\n",
    "plt.figure()\n",
    "plt.hist(y_val, bins=[-0.5,0.5,1.5], rwidth=0.8)\n",
    "plt.xticks([0,1])\n",
    "plt.title(\"Validation window labels (0=normal, 1=anomaly)\")\n",
    "plt.xlabel(\"label\"); plt.ylabel(\"count\")\n",
    "plt.tight_layout()\n",
    "out_png = ARTIFACTS_DIR / \"val_label_hist.png\"\n",
    "plt.savefig(out_png, dpi=150)\n",
    "plt.show(); plt.close()\n",
    "print(\"Saved plot:\", out_png)\n",
    "print(json.dumps(report, indent=2))\n",
    "print(\"Artifacts saved:\", sorted(p.name for p in ARTIFACTS_DIR.iterdir()))\n"
   ]
  }
 ],
 "metadata": {
  "kernelspec": {
   "display_name": "thesis_env",
   "language": "python",
   "name": "python3"
  },
  "language_info": {
   "codemirror_mode": {
    "name": "ipython",
    "version": 3
   },
   "file_extension": ".py",
   "mimetype": "text/x-python",
   "name": "python",
   "nbconvert_exporter": "python",
   "pygments_lexer": "ipython3",
   "version": "3.10.11"
  }
 },
 "nbformat": 4,
 "nbformat_minor": 5
}
